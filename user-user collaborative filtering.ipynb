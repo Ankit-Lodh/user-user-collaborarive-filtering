{
  "nbformat": 4,
  "nbformat_minor": 0,
  "metadata": {
    "colab": {
      "name": "Machine-Learning.ipynb",
      "provenance": [],
      "collapsed_sections": []
    },
    "kernelspec": {
      "name": "python3",
      "display_name": "Python 3"
    },
    "accelerator": "GPU"
  },
  "cells": [
    {
      "cell_type": "code",
      "metadata": {
        "id": "8DlvQ2FmGtPt",
        "outputId": "c7bf49fe-bd51-41c5-a8d8-40b21098e8ce",
        "colab": {
          "base_uri": "https://localhost:8080/",
          "height": 154
        }
      },
      "source": [
        "%lsmagic\n"
      ],
      "execution_count": null,
      "outputs": [
        {
          "output_type": "execute_result",
          "data": {
            "application/json": {
              "cell": {
                "prun": "ExecutionMagics",
                "file": "Other",
                "!": "OSMagics",
                "capture": "ExecutionMagics",
                "timeit": "ExecutionMagics",
                "script": "ScriptMagics",
                "pypy": "Other",
                "system": "OSMagics",
                "perl": "Other",
                "html": "DisplayMagics",
                "bash": "Other",
                "shell": "Other",
                "HTML": "Other",
                "python": "Other",
                "SVG": "Other",
                "javascript": "DisplayMagics",
                "bigquery": "Other",
                "js": "DisplayMagics",
                "writefile": "OSMagics",
                "ruby": "Other",
                "python3": "Other",
                "python2": "Other",
                "latex": "DisplayMagics",
                "sx": "OSMagics",
                "svg": "DisplayMagics",
                "sh": "Other",
                "time": "ExecutionMagics",
                "debug": "ExecutionMagics"
              },
              "line": {
                "psource": "NamespaceMagics",
                "logstart": "LoggingMagics",
                "popd": "OSMagics",
                "tensorflow_version": "Other",
                "loadpy": "CodeMagics",
                "colors": "BasicMagics",
                "who_ls": "NamespaceMagics",
                "lf": "Other",
                "ll": "Other",
                "pprint": "BasicMagics",
                "lk": "Other",
                "ls": "Other",
                "save": "CodeMagics",
                "tb": "ExecutionMagics",
                "lx": "Other",
                "pylab": "PylabMagics",
                "killbgscripts": "ScriptMagics",
                "quickref": "BasicMagics",
                "magic": "BasicMagics",
                "dhist": "OSMagics",
                "edit": "KernelMagics",
                "logstop": "LoggingMagics",
                "gui": "BasicMagics",
                "prun": "ExecutionMagics",
                "debug": "ExecutionMagics",
                "page": "BasicMagics",
                "logstate": "LoggingMagics",
                "ed": "Other",
                "pushd": "OSMagics",
                "timeit": "ExecutionMagics",
                "set_env": "OSMagics",
                "rehashx": "OSMagics",
                "hist": "Other",
                "qtconsole": "KernelMagics",
                "rm": "Other",
                "dirs": "OSMagics",
                "run": "ExecutionMagics",
                "reset_selective": "NamespaceMagics",
                "pinfo2": "NamespaceMagics",
                "matplotlib": "PylabMagics",
                "unload_ext": "ExtensionMagics",
                "doctest_mode": "BasicMagics",
                "logoff": "LoggingMagics",
                "reload_ext": "ExtensionMagics",
                "pdb": "ExecutionMagics",
                "load": "CodeMagics",
                "lsmagic": "BasicMagics",
                "autosave": "KernelMagics",
                "cd": "OSMagics",
                "pastebin": "CodeMagics",
                "alias_magic": "BasicMagics",
                "cp": "Other",
                "autocall": "AutoMagics",
                "ldir": "Other",
                "bookmark": "OSMagics",
                "connect_info": "KernelMagics",
                "mkdir": "Other",
                "system": "OSMagics",
                "whos": "NamespaceMagics",
                "rmdir": "Other",
                "automagic": "AutoMagics",
                "store": "StoreMagics",
                "more": "KernelMagics",
                "shell": "Other",
                "pdef": "NamespaceMagics",
                "precision": "BasicMagics",
                "pinfo": "NamespaceMagics",
                "pwd": "OSMagics",
                "psearch": "NamespaceMagics",
                "reset": "NamespaceMagics",
                "recall": "HistoryMagics",
                "xdel": "NamespaceMagics",
                "xmode": "BasicMagics",
                "cat": "Other",
                "mv": "Other",
                "rerun": "HistoryMagics",
                "logon": "LoggingMagics",
                "history": "HistoryMagics",
                "pycat": "OSMagics",
                "pip": "Other",
                "unalias": "OSMagics",
                "env": "OSMagics",
                "load_ext": "ExtensionMagics",
                "config": "ConfigMagics",
                "profile": "BasicMagics",
                "pfile": "NamespaceMagics",
                "less": "KernelMagics",
                "who": "NamespaceMagics",
                "notebook": "BasicMagics",
                "man": "KernelMagics",
                "sx": "OSMagics",
                "macro": "ExecutionMagics",
                "clear": "KernelMagics",
                "alias": "OSMagics",
                "time": "ExecutionMagics",
                "sc": "OSMagics",
                "rep": "Other",
                "pdoc": "NamespaceMagics"
              }
            },
            "text/plain": [
              "Available line magics:\n",
              "%alias  %alias_magic  %autocall  %automagic  %autosave  %bookmark  %cat  %cd  %clear  %colors  %config  %connect_info  %cp  %debug  %dhist  %dirs  %doctest_mode  %ed  %edit  %env  %gui  %hist  %history  %killbgscripts  %ldir  %less  %lf  %lk  %ll  %load  %load_ext  %loadpy  %logoff  %logon  %logstart  %logstate  %logstop  %ls  %lsmagic  %lx  %macro  %magic  %man  %matplotlib  %mkdir  %more  %mv  %notebook  %page  %pastebin  %pdb  %pdef  %pdoc  %pfile  %pinfo  %pinfo2  %pip  %popd  %pprint  %precision  %profile  %prun  %psearch  %psource  %pushd  %pwd  %pycat  %pylab  %qtconsole  %quickref  %recall  %rehashx  %reload_ext  %rep  %rerun  %reset  %reset_selective  %rm  %rmdir  %run  %save  %sc  %set_env  %shell  %store  %sx  %system  %tb  %tensorflow_version  %time  %timeit  %unalias  %unload_ext  %who  %who_ls  %whos  %xdel  %xmode\n",
              "\n",
              "Available cell magics:\n",
              "%%!  %%HTML  %%SVG  %%bash  %%bigquery  %%capture  %%debug  %%file  %%html  %%javascript  %%js  %%latex  %%perl  %%prun  %%pypy  %%python  %%python2  %%python3  %%ruby  %%script  %%sh  %%shell  %%svg  %%sx  %%system  %%time  %%timeit  %%writefile\n",
              "\n",
              "Automagic is ON, % prefix IS NOT needed for line magics."
            ]
          },
          "metadata": {
            "tags": []
          },
          "execution_count": 3
        }
      ]
    },
    {
      "cell_type": "code",
      "metadata": {
        "id": "dGSCskTvPGjr",
        "outputId": "ca0f9e42-43b2-4e4d-9420-06955334ef7a",
        "colab": {
          "base_uri": "https://localhost:8080/",
          "height": 104
        }
      },
      "source": [
        "%load_ext rpy2.ipython"
      ],
      "execution_count": null,
      "outputs": [
        {
          "output_type": "stream",
          "text": [
            "/usr/local/lib/python3.6/dist-packages/rpy2/robjects/pandas2ri.py:14: FutureWarning: pandas.core.index is deprecated and will be removed in a future version.  The public classes are available in the top-level namespace.\n",
            "  from pandas.core.index import Index as PandasIndex\n",
            "/usr/local/lib/python3.6/dist-packages/rpy2/robjects/pandas2ri.py:34: UserWarning: pandas >= 1.0 is not supported.\n",
            "  warnings.warn('pandas >= 1.0 is not supported.')\n"
          ],
          "name": "stderr"
        }
      ]
    },
    {
      "cell_type": "markdown",
      "metadata": {
        "id": "O7AFMwFG7d2j"
      },
      "source": [
        "#user user collaborative filtering\n"
      ]
    },
    {
      "cell_type": "markdown",
      "metadata": {
        "id": "NWW8S8ErHr7n"
      },
      "source": [
        "####Part 1 - Without Normalization"
      ]
    },
    {
      "cell_type": "code",
      "metadata": {
        "id": "87RbTpAsWuMo"
      },
      "source": [
        "import pandas as pd\n",
        "import numpy as np"
      ],
      "execution_count": 1,
      "outputs": []
    },
    {
      "cell_type": "code",
      "metadata": {
        "id": "bEnhHaQUXFdn",
        "outputId": "22e943f4-7d74-43e7-af2a-18baa0dacf16",
        "colab": {
          "resources": {
            "http://localhost:8080/nbextensions/google.colab/files.js": {
              "data": "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",
              "ok": true,
              "headers": [
                [
                  "content-type",
                  "application/javascript"
                ]
              ],
              "status": 200,
              "status_text": ""
            }
          },
          "base_uri": "https://localhost:8080/",
          "height": 73
        }
      },
      "source": [
        "from google.colab import files\n",
        "upload = files.upload()"
      ],
      "execution_count": 2,
      "outputs": [
        {
          "output_type": "display_data",
          "data": {
            "text/html": [
              "\n",
              "     <input type=\"file\" id=\"files-f1670333-bea1-4682-b586-8bc76625bf11\" name=\"files[]\" multiple disabled\n",
              "        style=\"border:none\" />\n",
              "     <output id=\"result-f1670333-bea1-4682-b586-8bc76625bf11\">\n",
              "      Upload widget is only available when the cell has been executed in the\n",
              "      current browser session. Please rerun this cell to enable.\n",
              "      </output>\n",
              "      <script src=\"/nbextensions/google.colab/files.js\"></script> "
            ],
            "text/plain": [
              "<IPython.core.display.HTML object>"
            ]
          },
          "metadata": {
            "tags": []
          }
        },
        {
          "output_type": "stream",
          "text": [
            "Saving UUCF Assignment Spreadsheet (3).xls to UUCF Assignment Spreadsheet (3).xls\n"
          ],
          "name": "stdout"
        }
      ]
    },
    {
      "cell_type": "code",
      "metadata": {
        "id": "GKpy1p9oiMPx"
      },
      "source": [
        "df_xls = pd.read_excel('UUCF Assignment Spreadsheet (3).xls')"
      ],
      "execution_count": 3,
      "outputs": []
    },
    {
      "cell_type": "code",
      "metadata": {
        "id": "BcGimEpa4Xkd",
        "outputId": "0c2eee51-2c9a-4882-8f46-bf83189538a3",
        "colab": {
          "base_uri": "https://localhost:8080/",
          "height": 435
        }
      },
      "source": [
        "df_xls"
      ],
      "execution_count": 4,
      "outputs": [
        {
          "output_type": "execute_result",
          "data": {
            "text/html": [
              "<div>\n",
              "<style scoped>\n",
              "    .dataframe tbody tr th:only-of-type {\n",
              "        vertical-align: middle;\n",
              "    }\n",
              "\n",
              "    .dataframe tbody tr th {\n",
              "        vertical-align: top;\n",
              "    }\n",
              "\n",
              "    .dataframe thead th {\n",
              "        text-align: right;\n",
              "    }\n",
              "</style>\n",
              "<table border=\"1\" class=\"dataframe\">\n",
              "  <thead>\n",
              "    <tr style=\"text-align: right;\">\n",
              "      <th></th>\n",
              "      <th>Unnamed: 0</th>\n",
              "      <th>1648</th>\n",
              "      <th>5136</th>\n",
              "      <th>918</th>\n",
              "      <th>2824</th>\n",
              "      <th>3867</th>\n",
              "      <th>860</th>\n",
              "      <th>3712</th>\n",
              "      <th>2968</th>\n",
              "      <th>3525</th>\n",
              "      <th>4323</th>\n",
              "      <th>3617</th>\n",
              "      <th>4360</th>\n",
              "      <th>2756</th>\n",
              "      <th>89</th>\n",
              "      <th>442</th>\n",
              "      <th>3556</th>\n",
              "      <th>5261</th>\n",
              "      <th>2492</th>\n",
              "      <th>5062</th>\n",
              "      <th>2486</th>\n",
              "      <th>4942</th>\n",
              "      <th>2267</th>\n",
              "      <th>4809</th>\n",
              "      <th>3853</th>\n",
              "      <th>2288</th>\n",
              "    </tr>\n",
              "  </thead>\n",
              "  <tbody>\n",
              "    <tr>\n",
              "      <th>0</th>\n",
              "      <td>11: Star Wars: Episode IV - A New Hope (1977)</td>\n",
              "      <td>NaN</td>\n",
              "      <td>4.5</td>\n",
              "      <td>5.0</td>\n",
              "      <td>4.5</td>\n",
              "      <td>4.0</td>\n",
              "      <td>4.0</td>\n",
              "      <td>NaN</td>\n",
              "      <td>5.0</td>\n",
              "      <td>4.0</td>\n",
              "      <td>5.0</td>\n",
              "      <td>NaN</td>\n",
              "      <td>4.0</td>\n",
              "      <td>NaN</td>\n",
              "      <td>4.0</td>\n",
              "      <td>3.0</td>\n",
              "      <td>4.0</td>\n",
              "      <td>NaN</td>\n",
              "      <td>4.5</td>\n",
              "      <td>4.0</td>\n",
              "      <td>3.5</td>\n",
              "      <td>NaN</td>\n",
              "      <td>NaN</td>\n",
              "      <td>NaN</td>\n",
              "      <td>NaN</td>\n",
              "      <td>NaN</td>\n",
              "    </tr>\n",
              "    <tr>\n",
              "      <th>1</th>\n",
              "      <td>12: Finding Nemo (2003)</td>\n",
              "      <td>NaN</td>\n",
              "      <td>5.0</td>\n",
              "      <td>5.0</td>\n",
              "      <td>NaN</td>\n",
              "      <td>4.0</td>\n",
              "      <td>4.0</td>\n",
              "      <td>4.5</td>\n",
              "      <td>4.5</td>\n",
              "      <td>4.0</td>\n",
              "      <td>5.0</td>\n",
              "      <td>NaN</td>\n",
              "      <td>4.0</td>\n",
              "      <td>5.0</td>\n",
              "      <td>4.5</td>\n",
              "      <td>NaN</td>\n",
              "      <td>4.0</td>\n",
              "      <td>NaN</td>\n",
              "      <td>3.5</td>\n",
              "      <td>4.0</td>\n",
              "      <td>2.0</td>\n",
              "      <td>3.5</td>\n",
              "      <td>NaN</td>\n",
              "      <td>NaN</td>\n",
              "      <td>NaN</td>\n",
              "      <td>3.5</td>\n",
              "    </tr>\n",
              "    <tr>\n",
              "      <th>2</th>\n",
              "      <td>13: Forrest Gump (1994)</td>\n",
              "      <td>NaN</td>\n",
              "      <td>5.0</td>\n",
              "      <td>4.5</td>\n",
              "      <td>5.0</td>\n",
              "      <td>4.5</td>\n",
              "      <td>4.5</td>\n",
              "      <td>NaN</td>\n",
              "      <td>5.0</td>\n",
              "      <td>4.5</td>\n",
              "      <td>5.0</td>\n",
              "      <td>5.0</td>\n",
              "      <td>4.5</td>\n",
              "      <td>4.5</td>\n",
              "      <td>5.0</td>\n",
              "      <td>3.0</td>\n",
              "      <td>4.0</td>\n",
              "      <td>5.0</td>\n",
              "      <td>3.5</td>\n",
              "      <td>4.5</td>\n",
              "      <td>4.5</td>\n",
              "      <td>4.0</td>\n",
              "      <td>3.5</td>\n",
              "      <td>4.5</td>\n",
              "      <td>3.5</td>\n",
              "      <td>3.5</td>\n",
              "    </tr>\n",
              "    <tr>\n",
              "      <th>3</th>\n",
              "      <td>14: American Beauty (1999)</td>\n",
              "      <td>NaN</td>\n",
              "      <td>4.0</td>\n",
              "      <td>NaN</td>\n",
              "      <td>NaN</td>\n",
              "      <td>NaN</td>\n",
              "      <td>NaN</td>\n",
              "      <td>4.5</td>\n",
              "      <td>2.0</td>\n",
              "      <td>3.5</td>\n",
              "      <td>5.0</td>\n",
              "      <td>3.5</td>\n",
              "      <td>5.0</td>\n",
              "      <td>3.5</td>\n",
              "      <td>NaN</td>\n",
              "      <td>4.0</td>\n",
              "      <td>4.0</td>\n",
              "      <td>NaN</td>\n",
              "      <td>3.5</td>\n",
              "      <td>4.5</td>\n",
              "      <td>3.5</td>\n",
              "      <td>4.0</td>\n",
              "      <td>NaN</td>\n",
              "      <td>3.5</td>\n",
              "      <td>NaN</td>\n",
              "      <td>NaN</td>\n",
              "    </tr>\n",
              "    <tr>\n",
              "      <th>4</th>\n",
              "      <td>22: Pirates of the Caribbean: The Curse of the...</td>\n",
              "      <td>4.0</td>\n",
              "      <td>5.0</td>\n",
              "      <td>3.0</td>\n",
              "      <td>4.5</td>\n",
              "      <td>4.0</td>\n",
              "      <td>2.5</td>\n",
              "      <td>NaN</td>\n",
              "      <td>5.0</td>\n",
              "      <td>3.0</td>\n",
              "      <td>4.0</td>\n",
              "      <td>4.0</td>\n",
              "      <td>4.5</td>\n",
              "      <td>4.0</td>\n",
              "      <td>NaN</td>\n",
              "      <td>1.0</td>\n",
              "      <td>3.0</td>\n",
              "      <td>1.5</td>\n",
              "      <td>4.0</td>\n",
              "      <td>4.0</td>\n",
              "      <td>2.5</td>\n",
              "      <td>3.5</td>\n",
              "      <td>NaN</td>\n",
              "      <td>5.0</td>\n",
              "      <td>NaN</td>\n",
              "      <td>3.5</td>\n",
              "    </tr>\n",
              "    <tr>\n",
              "      <th>...</th>\n",
              "      <td>...</td>\n",
              "      <td>...</td>\n",
              "      <td>...</td>\n",
              "      <td>...</td>\n",
              "      <td>...</td>\n",
              "      <td>...</td>\n",
              "      <td>...</td>\n",
              "      <td>...</td>\n",
              "      <td>...</td>\n",
              "      <td>...</td>\n",
              "      <td>...</td>\n",
              "      <td>...</td>\n",
              "      <td>...</td>\n",
              "      <td>...</td>\n",
              "      <td>...</td>\n",
              "      <td>...</td>\n",
              "      <td>...</td>\n",
              "      <td>...</td>\n",
              "      <td>...</td>\n",
              "      <td>...</td>\n",
              "      <td>...</td>\n",
              "      <td>...</td>\n",
              "      <td>...</td>\n",
              "      <td>...</td>\n",
              "      <td>...</td>\n",
              "      <td>...</td>\n",
              "    </tr>\n",
              "    <tr>\n",
              "      <th>95</th>\n",
              "      <td>9806: The Incredibles (2004)</td>\n",
              "      <td>3.5</td>\n",
              "      <td>5.0</td>\n",
              "      <td>3.5</td>\n",
              "      <td>NaN</td>\n",
              "      <td>3.0</td>\n",
              "      <td>3.5</td>\n",
              "      <td>4.5</td>\n",
              "      <td>5.0</td>\n",
              "      <td>3.5</td>\n",
              "      <td>4.0</td>\n",
              "      <td>NaN</td>\n",
              "      <td>4.5</td>\n",
              "      <td>4.0</td>\n",
              "      <td>NaN</td>\n",
              "      <td>NaN</td>\n",
              "      <td>3.5</td>\n",
              "      <td>0.5</td>\n",
              "      <td>5.0</td>\n",
              "      <td>3.5</td>\n",
              "      <td>3.0</td>\n",
              "      <td>NaN</td>\n",
              "      <td>NaN</td>\n",
              "      <td>4.5</td>\n",
              "      <td>NaN</td>\n",
              "      <td>3.5</td>\n",
              "    </tr>\n",
              "    <tr>\n",
              "      <th>96</th>\n",
              "      <td>10020: Beauty and the Beast (1991)</td>\n",
              "      <td>3.0</td>\n",
              "      <td>5.0</td>\n",
              "      <td>NaN</td>\n",
              "      <td>NaN</td>\n",
              "      <td>4.0</td>\n",
              "      <td>3.5</td>\n",
              "      <td>NaN</td>\n",
              "      <td>2.0</td>\n",
              "      <td>4.0</td>\n",
              "      <td>3.0</td>\n",
              "      <td>NaN</td>\n",
              "      <td>4.0</td>\n",
              "      <td>3.0</td>\n",
              "      <td>NaN</td>\n",
              "      <td>NaN</td>\n",
              "      <td>4.0</td>\n",
              "      <td>NaN</td>\n",
              "      <td>4.0</td>\n",
              "      <td>2.0</td>\n",
              "      <td>2.5</td>\n",
              "      <td>NaN</td>\n",
              "      <td>NaN</td>\n",
              "      <td>4.0</td>\n",
              "      <td>NaN</td>\n",
              "      <td>NaN</td>\n",
              "    </tr>\n",
              "    <tr>\n",
              "      <th>97</th>\n",
              "      <td>36657: X-Men (2000)</td>\n",
              "      <td>NaN</td>\n",
              "      <td>4.5</td>\n",
              "      <td>NaN</td>\n",
              "      <td>NaN</td>\n",
              "      <td>4.0</td>\n",
              "      <td>NaN</td>\n",
              "      <td>4.5</td>\n",
              "      <td>5.0</td>\n",
              "      <td>4.0</td>\n",
              "      <td>5.0</td>\n",
              "      <td>NaN</td>\n",
              "      <td>4.0</td>\n",
              "      <td>3.5</td>\n",
              "      <td>NaN</td>\n",
              "      <td>4.0</td>\n",
              "      <td>3.5</td>\n",
              "      <td>NaN</td>\n",
              "      <td>3.0</td>\n",
              "      <td>4.0</td>\n",
              "      <td>3.5</td>\n",
              "      <td>NaN</td>\n",
              "      <td>NaN</td>\n",
              "      <td>NaN</td>\n",
              "      <td>3.0</td>\n",
              "      <td>4.0</td>\n",
              "    </tr>\n",
              "    <tr>\n",
              "      <th>98</th>\n",
              "      <td>36658: X2: X-Men United (2003)</td>\n",
              "      <td>3.5</td>\n",
              "      <td>4.0</td>\n",
              "      <td>NaN</td>\n",
              "      <td>NaN</td>\n",
              "      <td>3.5</td>\n",
              "      <td>NaN</td>\n",
              "      <td>4.5</td>\n",
              "      <td>4.5</td>\n",
              "      <td>4.0</td>\n",
              "      <td>5.0</td>\n",
              "      <td>NaN</td>\n",
              "      <td>4.5</td>\n",
              "      <td>3.5</td>\n",
              "      <td>NaN</td>\n",
              "      <td>4.0</td>\n",
              "      <td>3.5</td>\n",
              "      <td>NaN</td>\n",
              "      <td>2.0</td>\n",
              "      <td>NaN</td>\n",
              "      <td>3.0</td>\n",
              "      <td>4.0</td>\n",
              "      <td>NaN</td>\n",
              "      <td>3.5</td>\n",
              "      <td>NaN</td>\n",
              "      <td>4.0</td>\n",
              "    </tr>\n",
              "    <tr>\n",
              "      <th>99</th>\n",
              "      <td>36955: True Lies (1994)</td>\n",
              "      <td>NaN</td>\n",
              "      <td>NaN</td>\n",
              "      <td>NaN</td>\n",
              "      <td>NaN</td>\n",
              "      <td>3.0</td>\n",
              "      <td>3.5</td>\n",
              "      <td>4.0</td>\n",
              "      <td>1.5</td>\n",
              "      <td>3.0</td>\n",
              "      <td>2.0</td>\n",
              "      <td>NaN</td>\n",
              "      <td>NaN</td>\n",
              "      <td>4.0</td>\n",
              "      <td>NaN</td>\n",
              "      <td>NaN</td>\n",
              "      <td>NaN</td>\n",
              "      <td>NaN</td>\n",
              "      <td>4.0</td>\n",
              "      <td>NaN</td>\n",
              "      <td>1.5</td>\n",
              "      <td>4.0</td>\n",
              "      <td>NaN</td>\n",
              "      <td>NaN</td>\n",
              "      <td>NaN</td>\n",
              "      <td>NaN</td>\n",
              "    </tr>\n",
              "  </tbody>\n",
              "</table>\n",
              "<p>100 rows × 26 columns</p>\n",
              "</div>"
            ],
            "text/plain": [
              "                                           Unnamed: 0  1648  ...  3853  2288\n",
              "0       11: Star Wars: Episode IV - A New Hope (1977)   NaN  ...   NaN   NaN\n",
              "1                             12: Finding Nemo (2003)   NaN  ...   NaN   3.5\n",
              "2                             13: Forrest Gump (1994)   NaN  ...   3.5   3.5\n",
              "3                          14: American Beauty (1999)   NaN  ...   NaN   NaN\n",
              "4   22: Pirates of the Caribbean: The Curse of the...   4.0  ...   NaN   3.5\n",
              "..                                                ...   ...  ...   ...   ...\n",
              "95                       9806: The Incredibles (2004)   3.5  ...   NaN   3.5\n",
              "96                 10020: Beauty and the Beast (1991)   3.0  ...   NaN   NaN\n",
              "97                                36657: X-Men (2000)   NaN  ...   3.0   4.0\n",
              "98                     36658: X2: X-Men United (2003)   3.5  ...   NaN   4.0\n",
              "99                            36955: True Lies (1994)   NaN  ...   NaN   NaN\n",
              "\n",
              "[100 rows x 26 columns]"
            ]
          },
          "metadata": {
            "tags": []
          },
          "execution_count": 4
        }
      ]
    },
    {
      "cell_type": "code",
      "metadata": {
        "id": "GHcDf-CP8QM0"
      },
      "source": [
        "df_xls.to_csv('UUCF Assignment Spreadsheet (3).csv')"
      ],
      "execution_count": 5,
      "outputs": []
    },
    {
      "cell_type": "code",
      "metadata": {
        "id": "2va8Ygyv8zlC",
        "outputId": "b326701e-d154-4b35-9fb8-82fbbb77d22d",
        "colab": {
          "base_uri": "https://localhost:8080/",
          "height": 435
        }
      },
      "source": [
        "df_xls"
      ],
      "execution_count": 6,
      "outputs": [
        {
          "output_type": "execute_result",
          "data": {
            "text/html": [
              "<div>\n",
              "<style scoped>\n",
              "    .dataframe tbody tr th:only-of-type {\n",
              "        vertical-align: middle;\n",
              "    }\n",
              "\n",
              "    .dataframe tbody tr th {\n",
              "        vertical-align: top;\n",
              "    }\n",
              "\n",
              "    .dataframe thead th {\n",
              "        text-align: right;\n",
              "    }\n",
              "</style>\n",
              "<table border=\"1\" class=\"dataframe\">\n",
              "  <thead>\n",
              "    <tr style=\"text-align: right;\">\n",
              "      <th></th>\n",
              "      <th>Unnamed: 0</th>\n",
              "      <th>1648</th>\n",
              "      <th>5136</th>\n",
              "      <th>918</th>\n",
              "      <th>2824</th>\n",
              "      <th>3867</th>\n",
              "      <th>860</th>\n",
              "      <th>3712</th>\n",
              "      <th>2968</th>\n",
              "      <th>3525</th>\n",
              "      <th>4323</th>\n",
              "      <th>3617</th>\n",
              "      <th>4360</th>\n",
              "      <th>2756</th>\n",
              "      <th>89</th>\n",
              "      <th>442</th>\n",
              "      <th>3556</th>\n",
              "      <th>5261</th>\n",
              "      <th>2492</th>\n",
              "      <th>5062</th>\n",
              "      <th>2486</th>\n",
              "      <th>4942</th>\n",
              "      <th>2267</th>\n",
              "      <th>4809</th>\n",
              "      <th>3853</th>\n",
              "      <th>2288</th>\n",
              "    </tr>\n",
              "  </thead>\n",
              "  <tbody>\n",
              "    <tr>\n",
              "      <th>0</th>\n",
              "      <td>11: Star Wars: Episode IV - A New Hope (1977)</td>\n",
              "      <td>NaN</td>\n",
              "      <td>4.5</td>\n",
              "      <td>5.0</td>\n",
              "      <td>4.5</td>\n",
              "      <td>4.0</td>\n",
              "      <td>4.0</td>\n",
              "      <td>NaN</td>\n",
              "      <td>5.0</td>\n",
              "      <td>4.0</td>\n",
              "      <td>5.0</td>\n",
              "      <td>NaN</td>\n",
              "      <td>4.0</td>\n",
              "      <td>NaN</td>\n",
              "      <td>4.0</td>\n",
              "      <td>3.0</td>\n",
              "      <td>4.0</td>\n",
              "      <td>NaN</td>\n",
              "      <td>4.5</td>\n",
              "      <td>4.0</td>\n",
              "      <td>3.5</td>\n",
              "      <td>NaN</td>\n",
              "      <td>NaN</td>\n",
              "      <td>NaN</td>\n",
              "      <td>NaN</td>\n",
              "      <td>NaN</td>\n",
              "    </tr>\n",
              "    <tr>\n",
              "      <th>1</th>\n",
              "      <td>12: Finding Nemo (2003)</td>\n",
              "      <td>NaN</td>\n",
              "      <td>5.0</td>\n",
              "      <td>5.0</td>\n",
              "      <td>NaN</td>\n",
              "      <td>4.0</td>\n",
              "      <td>4.0</td>\n",
              "      <td>4.5</td>\n",
              "      <td>4.5</td>\n",
              "      <td>4.0</td>\n",
              "      <td>5.0</td>\n",
              "      <td>NaN</td>\n",
              "      <td>4.0</td>\n",
              "      <td>5.0</td>\n",
              "      <td>4.5</td>\n",
              "      <td>NaN</td>\n",
              "      <td>4.0</td>\n",
              "      <td>NaN</td>\n",
              "      <td>3.5</td>\n",
              "      <td>4.0</td>\n",
              "      <td>2.0</td>\n",
              "      <td>3.5</td>\n",
              "      <td>NaN</td>\n",
              "      <td>NaN</td>\n",
              "      <td>NaN</td>\n",
              "      <td>3.5</td>\n",
              "    </tr>\n",
              "    <tr>\n",
              "      <th>2</th>\n",
              "      <td>13: Forrest Gump (1994)</td>\n",
              "      <td>NaN</td>\n",
              "      <td>5.0</td>\n",
              "      <td>4.5</td>\n",
              "      <td>5.0</td>\n",
              "      <td>4.5</td>\n",
              "      <td>4.5</td>\n",
              "      <td>NaN</td>\n",
              "      <td>5.0</td>\n",
              "      <td>4.5</td>\n",
              "      <td>5.0</td>\n",
              "      <td>5.0</td>\n",
              "      <td>4.5</td>\n",
              "      <td>4.5</td>\n",
              "      <td>5.0</td>\n",
              "      <td>3.0</td>\n",
              "      <td>4.0</td>\n",
              "      <td>5.0</td>\n",
              "      <td>3.5</td>\n",
              "      <td>4.5</td>\n",
              "      <td>4.5</td>\n",
              "      <td>4.0</td>\n",
              "      <td>3.5</td>\n",
              "      <td>4.5</td>\n",
              "      <td>3.5</td>\n",
              "      <td>3.5</td>\n",
              "    </tr>\n",
              "    <tr>\n",
              "      <th>3</th>\n",
              "      <td>14: American Beauty (1999)</td>\n",
              "      <td>NaN</td>\n",
              "      <td>4.0</td>\n",
              "      <td>NaN</td>\n",
              "      <td>NaN</td>\n",
              "      <td>NaN</td>\n",
              "      <td>NaN</td>\n",
              "      <td>4.5</td>\n",
              "      <td>2.0</td>\n",
              "      <td>3.5</td>\n",
              "      <td>5.0</td>\n",
              "      <td>3.5</td>\n",
              "      <td>5.0</td>\n",
              "      <td>3.5</td>\n",
              "      <td>NaN</td>\n",
              "      <td>4.0</td>\n",
              "      <td>4.0</td>\n",
              "      <td>NaN</td>\n",
              "      <td>3.5</td>\n",
              "      <td>4.5</td>\n",
              "      <td>3.5</td>\n",
              "      <td>4.0</td>\n",
              "      <td>NaN</td>\n",
              "      <td>3.5</td>\n",
              "      <td>NaN</td>\n",
              "      <td>NaN</td>\n",
              "    </tr>\n",
              "    <tr>\n",
              "      <th>4</th>\n",
              "      <td>22: Pirates of the Caribbean: The Curse of the...</td>\n",
              "      <td>4.0</td>\n",
              "      <td>5.0</td>\n",
              "      <td>3.0</td>\n",
              "      <td>4.5</td>\n",
              "      <td>4.0</td>\n",
              "      <td>2.5</td>\n",
              "      <td>NaN</td>\n",
              "      <td>5.0</td>\n",
              "      <td>3.0</td>\n",
              "      <td>4.0</td>\n",
              "      <td>4.0</td>\n",
              "      <td>4.5</td>\n",
              "      <td>4.0</td>\n",
              "      <td>NaN</td>\n",
              "      <td>1.0</td>\n",
              "      <td>3.0</td>\n",
              "      <td>1.5</td>\n",
              "      <td>4.0</td>\n",
              "      <td>4.0</td>\n",
              "      <td>2.5</td>\n",
              "      <td>3.5</td>\n",
              "      <td>NaN</td>\n",
              "      <td>5.0</td>\n",
              "      <td>NaN</td>\n",
              "      <td>3.5</td>\n",
              "    </tr>\n",
              "    <tr>\n",
              "      <th>...</th>\n",
              "      <td>...</td>\n",
              "      <td>...</td>\n",
              "      <td>...</td>\n",
              "      <td>...</td>\n",
              "      <td>...</td>\n",
              "      <td>...</td>\n",
              "      <td>...</td>\n",
              "      <td>...</td>\n",
              "      <td>...</td>\n",
              "      <td>...</td>\n",
              "      <td>...</td>\n",
              "      <td>...</td>\n",
              "      <td>...</td>\n",
              "      <td>...</td>\n",
              "      <td>...</td>\n",
              "      <td>...</td>\n",
              "      <td>...</td>\n",
              "      <td>...</td>\n",
              "      <td>...</td>\n",
              "      <td>...</td>\n",
              "      <td>...</td>\n",
              "      <td>...</td>\n",
              "      <td>...</td>\n",
              "      <td>...</td>\n",
              "      <td>...</td>\n",
              "      <td>...</td>\n",
              "    </tr>\n",
              "    <tr>\n",
              "      <th>95</th>\n",
              "      <td>9806: The Incredibles (2004)</td>\n",
              "      <td>3.5</td>\n",
              "      <td>5.0</td>\n",
              "      <td>3.5</td>\n",
              "      <td>NaN</td>\n",
              "      <td>3.0</td>\n",
              "      <td>3.5</td>\n",
              "      <td>4.5</td>\n",
              "      <td>5.0</td>\n",
              "      <td>3.5</td>\n",
              "      <td>4.0</td>\n",
              "      <td>NaN</td>\n",
              "      <td>4.5</td>\n",
              "      <td>4.0</td>\n",
              "      <td>NaN</td>\n",
              "      <td>NaN</td>\n",
              "      <td>3.5</td>\n",
              "      <td>0.5</td>\n",
              "      <td>5.0</td>\n",
              "      <td>3.5</td>\n",
              "      <td>3.0</td>\n",
              "      <td>NaN</td>\n",
              "      <td>NaN</td>\n",
              "      <td>4.5</td>\n",
              "      <td>NaN</td>\n",
              "      <td>3.5</td>\n",
              "    </tr>\n",
              "    <tr>\n",
              "      <th>96</th>\n",
              "      <td>10020: Beauty and the Beast (1991)</td>\n",
              "      <td>3.0</td>\n",
              "      <td>5.0</td>\n",
              "      <td>NaN</td>\n",
              "      <td>NaN</td>\n",
              "      <td>4.0</td>\n",
              "      <td>3.5</td>\n",
              "      <td>NaN</td>\n",
              "      <td>2.0</td>\n",
              "      <td>4.0</td>\n",
              "      <td>3.0</td>\n",
              "      <td>NaN</td>\n",
              "      <td>4.0</td>\n",
              "      <td>3.0</td>\n",
              "      <td>NaN</td>\n",
              "      <td>NaN</td>\n",
              "      <td>4.0</td>\n",
              "      <td>NaN</td>\n",
              "      <td>4.0</td>\n",
              "      <td>2.0</td>\n",
              "      <td>2.5</td>\n",
              "      <td>NaN</td>\n",
              "      <td>NaN</td>\n",
              "      <td>4.0</td>\n",
              "      <td>NaN</td>\n",
              "      <td>NaN</td>\n",
              "    </tr>\n",
              "    <tr>\n",
              "      <th>97</th>\n",
              "      <td>36657: X-Men (2000)</td>\n",
              "      <td>NaN</td>\n",
              "      <td>4.5</td>\n",
              "      <td>NaN</td>\n",
              "      <td>NaN</td>\n",
              "      <td>4.0</td>\n",
              "      <td>NaN</td>\n",
              "      <td>4.5</td>\n",
              "      <td>5.0</td>\n",
              "      <td>4.0</td>\n",
              "      <td>5.0</td>\n",
              "      <td>NaN</td>\n",
              "      <td>4.0</td>\n",
              "      <td>3.5</td>\n",
              "      <td>NaN</td>\n",
              "      <td>4.0</td>\n",
              "      <td>3.5</td>\n",
              "      <td>NaN</td>\n",
              "      <td>3.0</td>\n",
              "      <td>4.0</td>\n",
              "      <td>3.5</td>\n",
              "      <td>NaN</td>\n",
              "      <td>NaN</td>\n",
              "      <td>NaN</td>\n",
              "      <td>3.0</td>\n",
              "      <td>4.0</td>\n",
              "    </tr>\n",
              "    <tr>\n",
              "      <th>98</th>\n",
              "      <td>36658: X2: X-Men United (2003)</td>\n",
              "      <td>3.5</td>\n",
              "      <td>4.0</td>\n",
              "      <td>NaN</td>\n",
              "      <td>NaN</td>\n",
              "      <td>3.5</td>\n",
              "      <td>NaN</td>\n",
              "      <td>4.5</td>\n",
              "      <td>4.5</td>\n",
              "      <td>4.0</td>\n",
              "      <td>5.0</td>\n",
              "      <td>NaN</td>\n",
              "      <td>4.5</td>\n",
              "      <td>3.5</td>\n",
              "      <td>NaN</td>\n",
              "      <td>4.0</td>\n",
              "      <td>3.5</td>\n",
              "      <td>NaN</td>\n",
              "      <td>2.0</td>\n",
              "      <td>NaN</td>\n",
              "      <td>3.0</td>\n",
              "      <td>4.0</td>\n",
              "      <td>NaN</td>\n",
              "      <td>3.5</td>\n",
              "      <td>NaN</td>\n",
              "      <td>4.0</td>\n",
              "    </tr>\n",
              "    <tr>\n",
              "      <th>99</th>\n",
              "      <td>36955: True Lies (1994)</td>\n",
              "      <td>NaN</td>\n",
              "      <td>NaN</td>\n",
              "      <td>NaN</td>\n",
              "      <td>NaN</td>\n",
              "      <td>3.0</td>\n",
              "      <td>3.5</td>\n",
              "      <td>4.0</td>\n",
              "      <td>1.5</td>\n",
              "      <td>3.0</td>\n",
              "      <td>2.0</td>\n",
              "      <td>NaN</td>\n",
              "      <td>NaN</td>\n",
              "      <td>4.0</td>\n",
              "      <td>NaN</td>\n",
              "      <td>NaN</td>\n",
              "      <td>NaN</td>\n",
              "      <td>NaN</td>\n",
              "      <td>4.0</td>\n",
              "      <td>NaN</td>\n",
              "      <td>1.5</td>\n",
              "      <td>4.0</td>\n",
              "      <td>NaN</td>\n",
              "      <td>NaN</td>\n",
              "      <td>NaN</td>\n",
              "      <td>NaN</td>\n",
              "    </tr>\n",
              "  </tbody>\n",
              "</table>\n",
              "<p>100 rows × 26 columns</p>\n",
              "</div>"
            ],
            "text/plain": [
              "                                           Unnamed: 0  1648  ...  3853  2288\n",
              "0       11: Star Wars: Episode IV - A New Hope (1977)   NaN  ...   NaN   NaN\n",
              "1                             12: Finding Nemo (2003)   NaN  ...   NaN   3.5\n",
              "2                             13: Forrest Gump (1994)   NaN  ...   3.5   3.5\n",
              "3                          14: American Beauty (1999)   NaN  ...   NaN   NaN\n",
              "4   22: Pirates of the Caribbean: The Curse of the...   4.0  ...   NaN   3.5\n",
              "..                                                ...   ...  ...   ...   ...\n",
              "95                       9806: The Incredibles (2004)   3.5  ...   NaN   3.5\n",
              "96                 10020: Beauty and the Beast (1991)   3.0  ...   NaN   NaN\n",
              "97                                36657: X-Men (2000)   NaN  ...   3.0   4.0\n",
              "98                     36658: X2: X-Men United (2003)   3.5  ...   NaN   4.0\n",
              "99                            36955: True Lies (1994)   NaN  ...   NaN   NaN\n",
              "\n",
              "[100 rows x 26 columns]"
            ]
          },
          "metadata": {
            "tags": []
          },
          "execution_count": 6
        }
      ]
    },
    {
      "cell_type": "code",
      "metadata": {
        "id": "T84-QM_FDGzs",
        "outputId": "3d73dd0c-4586-4298-af57-5d24241411d6",
        "colab": {
          "base_uri": "https://localhost:8080/"
        }
      },
      "source": [
        "df_xls['Unnamed: 0']"
      ],
      "execution_count": 7,
      "outputs": [
        {
          "output_type": "execute_result",
          "data": {
            "text/plain": [
              "0         11: Star Wars: Episode IV - A New Hope (1977)\n",
              "1                               12: Finding Nemo (2003)\n",
              "2                               13: Forrest Gump (1994)\n",
              "3                            14: American Beauty (1999)\n",
              "4     22: Pirates of the Caribbean: The Curse of the...\n",
              "                            ...                        \n",
              "95                         9806: The Incredibles (2004)\n",
              "96                   10020: Beauty and the Beast (1991)\n",
              "97                                  36657: X-Men (2000)\n",
              "98                       36658: X2: X-Men United (2003)\n",
              "99                              36955: True Lies (1994)\n",
              "Name: Unnamed: 0, Length: 100, dtype: object"
            ]
          },
          "metadata": {
            "tags": []
          },
          "execution_count": 7
        }
      ]
    },
    {
      "cell_type": "code",
      "metadata": {
        "id": "vP1BM8b38jXj"
      },
      "source": [
        "# let's findout the user-user correlation matrix\n",
        "cor = df_xls.corr(method = 'pearson')"
      ],
      "execution_count": 8,
      "outputs": []
    },
    {
      "cell_type": "code",
      "metadata": {
        "id": "6J53T9R__Ptm",
        "outputId": "8f857e28-e537-4bbf-fc7f-fc452e0d21f1",
        "colab": {
          "base_uri": "https://localhost:8080/",
          "height": 807
        }
      },
      "source": [
        "cor"
      ],
      "execution_count": 9,
      "outputs": [
        {
          "output_type": "execute_result",
          "data": {
            "text/html": [
              "<div>\n",
              "<style scoped>\n",
              "    .dataframe tbody tr th:only-of-type {\n",
              "        vertical-align: middle;\n",
              "    }\n",
              "\n",
              "    .dataframe tbody tr th {\n",
              "        vertical-align: top;\n",
              "    }\n",
              "\n",
              "    .dataframe thead th {\n",
              "        text-align: right;\n",
              "    }\n",
              "</style>\n",
              "<table border=\"1\" class=\"dataframe\">\n",
              "  <thead>\n",
              "    <tr style=\"text-align: right;\">\n",
              "      <th></th>\n",
              "      <th>1648</th>\n",
              "      <th>5136</th>\n",
              "      <th>918</th>\n",
              "      <th>2824</th>\n",
              "      <th>3867</th>\n",
              "      <th>860</th>\n",
              "      <th>3712</th>\n",
              "      <th>2968</th>\n",
              "      <th>3525</th>\n",
              "      <th>4323</th>\n",
              "      <th>3617</th>\n",
              "      <th>4360</th>\n",
              "      <th>2756</th>\n",
              "      <th>89</th>\n",
              "      <th>442</th>\n",
              "      <th>3556</th>\n",
              "      <th>5261</th>\n",
              "      <th>2492</th>\n",
              "      <th>5062</th>\n",
              "      <th>2486</th>\n",
              "      <th>4942</th>\n",
              "      <th>2267</th>\n",
              "      <th>4809</th>\n",
              "      <th>3853</th>\n",
              "      <th>2288</th>\n",
              "    </tr>\n",
              "  </thead>\n",
              "  <tbody>\n",
              "    <tr>\n",
              "      <th>1648</th>\n",
              "      <td>1.000000</td>\n",
              "      <td>0.402980</td>\n",
              "      <td>-0.142206</td>\n",
              "      <td>0.517620</td>\n",
              "      <td>0.300200</td>\n",
              "      <td>0.480537</td>\n",
              "      <td>-0.312412</td>\n",
              "      <td>0.383348</td>\n",
              "      <td>0.092775</td>\n",
              "      <td>0.098191</td>\n",
              "      <td>-0.041734</td>\n",
              "      <td>0.264425</td>\n",
              "      <td>0.261268</td>\n",
              "      <td>0.464610</td>\n",
              "      <td>0.022308</td>\n",
              "      <td>-0.191988</td>\n",
              "      <td>0.493008</td>\n",
              "      <td>0.360644</td>\n",
              "      <td>0.551089</td>\n",
              "      <td>0.002544</td>\n",
              "      <td>0.116653</td>\n",
              "      <td>-0.429183</td>\n",
              "      <td>0.394371</td>\n",
              "      <td>-0.304422</td>\n",
              "      <td>0.245048</td>\n",
              "    </tr>\n",
              "    <tr>\n",
              "      <th>5136</th>\n",
              "      <td>0.402980</td>\n",
              "      <td>1.000000</td>\n",
              "      <td>0.118979</td>\n",
              "      <td>0.057916</td>\n",
              "      <td>0.341734</td>\n",
              "      <td>0.241377</td>\n",
              "      <td>0.131398</td>\n",
              "      <td>0.206695</td>\n",
              "      <td>0.360056</td>\n",
              "      <td>0.033642</td>\n",
              "      <td>0.138548</td>\n",
              "      <td>0.152948</td>\n",
              "      <td>0.148882</td>\n",
              "      <td>0.562449</td>\n",
              "      <td>0.414438</td>\n",
              "      <td>0.488607</td>\n",
              "      <td>0.328120</td>\n",
              "      <td>0.422236</td>\n",
              "      <td>0.226635</td>\n",
              "      <td>0.305803</td>\n",
              "      <td>0.037769</td>\n",
              "      <td>0.240728</td>\n",
              "      <td>0.411676</td>\n",
              "      <td>0.189234</td>\n",
              "      <td>0.390067</td>\n",
              "    </tr>\n",
              "    <tr>\n",
              "      <th>918</th>\n",
              "      <td>-0.142206</td>\n",
              "      <td>0.118979</td>\n",
              "      <td>1.000000</td>\n",
              "      <td>-0.317063</td>\n",
              "      <td>0.294558</td>\n",
              "      <td>0.468333</td>\n",
              "      <td>0.092037</td>\n",
              "      <td>-0.045854</td>\n",
              "      <td>0.367568</td>\n",
              "      <td>-0.035394</td>\n",
              "      <td>0.011316</td>\n",
              "      <td>-0.231660</td>\n",
              "      <td>0.148431</td>\n",
              "      <td>0.267029</td>\n",
              "      <td>0.304139</td>\n",
              "      <td>0.373226</td>\n",
              "      <td>0.470972</td>\n",
              "      <td>0.069956</td>\n",
              "      <td>-0.054762</td>\n",
              "      <td>0.133812</td>\n",
              "      <td>0.015169</td>\n",
              "      <td>-0.273096</td>\n",
              "      <td>0.082528</td>\n",
              "      <td>0.667168</td>\n",
              "      <td>0.119162</td>\n",
              "    </tr>\n",
              "    <tr>\n",
              "      <th>2824</th>\n",
              "      <td>0.517620</td>\n",
              "      <td>0.057916</td>\n",
              "      <td>-0.317063</td>\n",
              "      <td>1.000000</td>\n",
              "      <td>-0.060913</td>\n",
              "      <td>-0.008066</td>\n",
              "      <td>0.462910</td>\n",
              "      <td>0.214760</td>\n",
              "      <td>0.169907</td>\n",
              "      <td>0.119350</td>\n",
              "      <td>0.282756</td>\n",
              "      <td>-0.005326</td>\n",
              "      <td>-0.087747</td>\n",
              "      <td>0.241567</td>\n",
              "      <td>0.116532</td>\n",
              "      <td>-0.201275</td>\n",
              "      <td>0.228341</td>\n",
              "      <td>0.238700</td>\n",
              "      <td>0.259660</td>\n",
              "      <td>0.247097</td>\n",
              "      <td>0.149247</td>\n",
              "      <td>-0.361466</td>\n",
              "      <td>0.474974</td>\n",
              "      <td>-0.262073</td>\n",
              "      <td>0.166999</td>\n",
              "    </tr>\n",
              "    <tr>\n",
              "      <th>3867</th>\n",
              "      <td>0.300200</td>\n",
              "      <td>0.341734</td>\n",
              "      <td>0.294558</td>\n",
              "      <td>-0.060913</td>\n",
              "      <td>1.000000</td>\n",
              "      <td>0.282497</td>\n",
              "      <td>0.400275</td>\n",
              "      <td>0.264249</td>\n",
              "      <td>0.125193</td>\n",
              "      <td>-0.333602</td>\n",
              "      <td>-0.066576</td>\n",
              "      <td>-0.093801</td>\n",
              "      <td>0.310104</td>\n",
              "      <td>-0.003878</td>\n",
              "      <td>0.113581</td>\n",
              "      <td>0.174085</td>\n",
              "      <td>0.297977</td>\n",
              "      <td>0.476683</td>\n",
              "      <td>0.293868</td>\n",
              "      <td>0.438992</td>\n",
              "      <td>-0.162818</td>\n",
              "      <td>-0.295966</td>\n",
              "      <td>0.054518</td>\n",
              "      <td>0.464110</td>\n",
              "      <td>0.379856</td>\n",
              "    </tr>\n",
              "    <tr>\n",
              "      <th>860</th>\n",
              "      <td>0.480537</td>\n",
              "      <td>0.241377</td>\n",
              "      <td>0.468333</td>\n",
              "      <td>-0.008066</td>\n",
              "      <td>0.282497</td>\n",
              "      <td>1.000000</td>\n",
              "      <td>0.171151</td>\n",
              "      <td>0.072927</td>\n",
              "      <td>0.387133</td>\n",
              "      <td>0.146158</td>\n",
              "      <td>0.219929</td>\n",
              "      <td>-0.005316</td>\n",
              "      <td>0.323499</td>\n",
              "      <td>0.539066</td>\n",
              "      <td>0.181276</td>\n",
              "      <td>0.347470</td>\n",
              "      <td>0.399436</td>\n",
              "      <td>0.207314</td>\n",
              "      <td>0.311363</td>\n",
              "      <td>0.276306</td>\n",
              "      <td>0.079698</td>\n",
              "      <td>0.212991</td>\n",
              "      <td>0.165608</td>\n",
              "      <td>0.162314</td>\n",
              "      <td>0.279677</td>\n",
              "    </tr>\n",
              "    <tr>\n",
              "      <th>3712</th>\n",
              "      <td>-0.312412</td>\n",
              "      <td>0.131398</td>\n",
              "      <td>0.092037</td>\n",
              "      <td>0.462910</td>\n",
              "      <td>0.400275</td>\n",
              "      <td>0.171151</td>\n",
              "      <td>1.000000</td>\n",
              "      <td>0.065015</td>\n",
              "      <td>0.095623</td>\n",
              "      <td>-0.292501</td>\n",
              "      <td>-0.038900</td>\n",
              "      <td>-0.364324</td>\n",
              "      <td>0.126899</td>\n",
              "      <td>-0.051320</td>\n",
              "      <td>0.227130</td>\n",
              "      <td>0.016406</td>\n",
              "      <td>-0.240764</td>\n",
              "      <td>-0.115254</td>\n",
              "      <td>0.247693</td>\n",
              "      <td>0.166913</td>\n",
              "      <td>0.146011</td>\n",
              "      <td>0.009685</td>\n",
              "      <td>-0.451625</td>\n",
              "      <td>0.193660</td>\n",
              "      <td>0.113266</td>\n",
              "    </tr>\n",
              "    <tr>\n",
              "      <th>2968</th>\n",
              "      <td>0.383348</td>\n",
              "      <td>0.206695</td>\n",
              "      <td>-0.045854</td>\n",
              "      <td>0.214760</td>\n",
              "      <td>0.264249</td>\n",
              "      <td>0.072927</td>\n",
              "      <td>0.065015</td>\n",
              "      <td>1.000000</td>\n",
              "      <td>0.028529</td>\n",
              "      <td>-0.073252</td>\n",
              "      <td>0.312573</td>\n",
              "      <td>0.053024</td>\n",
              "      <td>0.143347</td>\n",
              "      <td>-0.118085</td>\n",
              "      <td>0.100841</td>\n",
              "      <td>0.049132</td>\n",
              "      <td>-0.009041</td>\n",
              "      <td>0.203613</td>\n",
              "      <td>0.033301</td>\n",
              "      <td>0.137982</td>\n",
              "      <td>0.070602</td>\n",
              "      <td>0.109452</td>\n",
              "      <td>-0.083562</td>\n",
              "      <td>-0.089317</td>\n",
              "      <td>0.229219</td>\n",
              "    </tr>\n",
              "    <tr>\n",
              "      <th>3525</th>\n",
              "      <td>0.092775</td>\n",
              "      <td>0.360056</td>\n",
              "      <td>0.367568</td>\n",
              "      <td>0.169907</td>\n",
              "      <td>0.125193</td>\n",
              "      <td>0.387133</td>\n",
              "      <td>0.095623</td>\n",
              "      <td>0.028529</td>\n",
              "      <td>1.000000</td>\n",
              "      <td>0.210879</td>\n",
              "      <td>0.243283</td>\n",
              "      <td>-0.086061</td>\n",
              "      <td>0.058365</td>\n",
              "      <td>0.475495</td>\n",
              "      <td>0.201734</td>\n",
              "      <td>0.475711</td>\n",
              "      <td>0.306957</td>\n",
              "      <td>0.136343</td>\n",
              "      <td>0.301750</td>\n",
              "      <td>0.143414</td>\n",
              "      <td>0.056100</td>\n",
              "      <td>0.179908</td>\n",
              "      <td>0.284648</td>\n",
              "      <td>0.170757</td>\n",
              "      <td>0.193131</td>\n",
              "    </tr>\n",
              "    <tr>\n",
              "      <th>4323</th>\n",
              "      <td>0.098191</td>\n",
              "      <td>0.033642</td>\n",
              "      <td>-0.035394</td>\n",
              "      <td>0.119350</td>\n",
              "      <td>-0.333602</td>\n",
              "      <td>0.146158</td>\n",
              "      <td>-0.292501</td>\n",
              "      <td>-0.073252</td>\n",
              "      <td>0.210879</td>\n",
              "      <td>1.000000</td>\n",
              "      <td>0.022907</td>\n",
              "      <td>0.252529</td>\n",
              "      <td>-0.221789</td>\n",
              "      <td>0.258866</td>\n",
              "      <td>-0.024337</td>\n",
              "      <td>-0.040606</td>\n",
              "      <td>0.155045</td>\n",
              "      <td>-0.204164</td>\n",
              "      <td>0.263654</td>\n",
              "      <td>0.167198</td>\n",
              "      <td>-0.084592</td>\n",
              "      <td>0.315712</td>\n",
              "      <td>0.085673</td>\n",
              "      <td>-0.109892</td>\n",
              "      <td>-0.279385</td>\n",
              "    </tr>\n",
              "    <tr>\n",
              "      <th>3617</th>\n",
              "      <td>-0.041734</td>\n",
              "      <td>0.138548</td>\n",
              "      <td>0.011316</td>\n",
              "      <td>0.282756</td>\n",
              "      <td>-0.066576</td>\n",
              "      <td>0.219929</td>\n",
              "      <td>-0.038900</td>\n",
              "      <td>0.312573</td>\n",
              "      <td>0.243283</td>\n",
              "      <td>0.022907</td>\n",
              "      <td>1.000000</td>\n",
              "      <td>-0.346186</td>\n",
              "      <td>0.081613</td>\n",
              "      <td>0.278335</td>\n",
              "      <td>-0.263877</td>\n",
              "      <td>0.079571</td>\n",
              "      <td>-0.165628</td>\n",
              "      <td>0.053306</td>\n",
              "      <td>0.007810</td>\n",
              "      <td>-0.244637</td>\n",
              "      <td>-0.030709</td>\n",
              "      <td>-0.070660</td>\n",
              "      <td>0.268595</td>\n",
              "      <td>-0.143503</td>\n",
              "      <td>0.013284</td>\n",
              "    </tr>\n",
              "    <tr>\n",
              "      <th>4360</th>\n",
              "      <td>0.264425</td>\n",
              "      <td>0.152948</td>\n",
              "      <td>-0.231660</td>\n",
              "      <td>-0.005326</td>\n",
              "      <td>-0.093801</td>\n",
              "      <td>-0.005316</td>\n",
              "      <td>-0.364324</td>\n",
              "      <td>0.053024</td>\n",
              "      <td>-0.086061</td>\n",
              "      <td>0.252529</td>\n",
              "      <td>-0.346186</td>\n",
              "      <td>1.000000</td>\n",
              "      <td>0.091842</td>\n",
              "      <td>-0.115492</td>\n",
              "      <td>0.197105</td>\n",
              "      <td>0.072993</td>\n",
              "      <td>0.161882</td>\n",
              "      <td>-0.000311</td>\n",
              "      <td>-0.077598</td>\n",
              "      <td>0.039389</td>\n",
              "      <td>-0.156091</td>\n",
              "      <td>0.408592</td>\n",
              "      <td>0.179652</td>\n",
              "      <td>0.280402</td>\n",
              "      <td>0.040328</td>\n",
              "    </tr>\n",
              "    <tr>\n",
              "      <th>2756</th>\n",
              "      <td>0.261268</td>\n",
              "      <td>0.148882</td>\n",
              "      <td>0.148431</td>\n",
              "      <td>-0.087747</td>\n",
              "      <td>0.310104</td>\n",
              "      <td>0.323499</td>\n",
              "      <td>0.126899</td>\n",
              "      <td>0.143347</td>\n",
              "      <td>0.058365</td>\n",
              "      <td>-0.221789</td>\n",
              "      <td>0.081613</td>\n",
              "      <td>0.091842</td>\n",
              "      <td>1.000000</td>\n",
              "      <td>0.290591</td>\n",
              "      <td>0.017591</td>\n",
              "      <td>0.101784</td>\n",
              "      <td>-0.140953</td>\n",
              "      <td>0.150476</td>\n",
              "      <td>0.024572</td>\n",
              "      <td>-0.031130</td>\n",
              "      <td>-0.133768</td>\n",
              "      <td>0.142067</td>\n",
              "      <td>0.015140</td>\n",
              "      <td>0.181210</td>\n",
              "      <td>-0.005935</td>\n",
              "    </tr>\n",
              "    <tr>\n",
              "      <th>89</th>\n",
              "      <td>0.464610</td>\n",
              "      <td>0.562449</td>\n",
              "      <td>0.267029</td>\n",
              "      <td>0.241567</td>\n",
              "      <td>-0.003878</td>\n",
              "      <td>0.539066</td>\n",
              "      <td>-0.051320</td>\n",
              "      <td>-0.118085</td>\n",
              "      <td>0.475495</td>\n",
              "      <td>0.258866</td>\n",
              "      <td>0.278335</td>\n",
              "      <td>-0.115492</td>\n",
              "      <td>0.290591</td>\n",
              "      <td>1.000000</td>\n",
              "      <td>0.296826</td>\n",
              "      <td>0.326774</td>\n",
              "      <td>0.291476</td>\n",
              "      <td>0.372676</td>\n",
              "      <td>0.525990</td>\n",
              "      <td>0.123380</td>\n",
              "      <td>0.178088</td>\n",
              "      <td>0.088600</td>\n",
              "      <td>0.668516</td>\n",
              "      <td>0.179680</td>\n",
              "      <td>0.155869</td>\n",
              "    </tr>\n",
              "    <tr>\n",
              "      <th>442</th>\n",
              "      <td>0.022308</td>\n",
              "      <td>0.414438</td>\n",
              "      <td>0.304139</td>\n",
              "      <td>0.116532</td>\n",
              "      <td>0.113581</td>\n",
              "      <td>0.181276</td>\n",
              "      <td>0.227130</td>\n",
              "      <td>0.100841</td>\n",
              "      <td>0.201734</td>\n",
              "      <td>-0.024337</td>\n",
              "      <td>-0.263877</td>\n",
              "      <td>0.197105</td>\n",
              "      <td>0.017591</td>\n",
              "      <td>0.296826</td>\n",
              "      <td>1.000000</td>\n",
              "      <td>0.251660</td>\n",
              "      <td>0.046822</td>\n",
              "      <td>0.218575</td>\n",
              "      <td>0.150431</td>\n",
              "      <td>0.280392</td>\n",
              "      <td>0.038378</td>\n",
              "      <td>0.262520</td>\n",
              "      <td>0.064179</td>\n",
              "      <td>-0.023439</td>\n",
              "      <td>0.257864</td>\n",
              "    </tr>\n",
              "    <tr>\n",
              "      <th>3556</th>\n",
              "      <td>-0.191988</td>\n",
              "      <td>0.488607</td>\n",
              "      <td>0.373226</td>\n",
              "      <td>-0.201275</td>\n",
              "      <td>0.174085</td>\n",
              "      <td>0.347470</td>\n",
              "      <td>0.016406</td>\n",
              "      <td>0.049132</td>\n",
              "      <td>0.475711</td>\n",
              "      <td>-0.040606</td>\n",
              "      <td>0.079571</td>\n",
              "      <td>0.072993</td>\n",
              "      <td>0.101784</td>\n",
              "      <td>0.326774</td>\n",
              "      <td>0.251660</td>\n",
              "      <td>1.000000</td>\n",
              "      <td>0.086665</td>\n",
              "      <td>0.158739</td>\n",
              "      <td>-0.016164</td>\n",
              "      <td>0.256537</td>\n",
              "      <td>-0.055137</td>\n",
              "      <td>0.503247</td>\n",
              "      <td>0.100277</td>\n",
              "      <td>0.423225</td>\n",
              "      <td>0.222458</td>\n",
              "    </tr>\n",
              "    <tr>\n",
              "      <th>5261</th>\n",
              "      <td>0.493008</td>\n",
              "      <td>0.328120</td>\n",
              "      <td>0.470972</td>\n",
              "      <td>0.228341</td>\n",
              "      <td>0.297977</td>\n",
              "      <td>0.399436</td>\n",
              "      <td>-0.240764</td>\n",
              "      <td>-0.009041</td>\n",
              "      <td>0.306957</td>\n",
              "      <td>0.155045</td>\n",
              "      <td>-0.165628</td>\n",
              "      <td>0.161882</td>\n",
              "      <td>-0.140953</td>\n",
              "      <td>0.291476</td>\n",
              "      <td>0.046822</td>\n",
              "      <td>0.086665</td>\n",
              "      <td>1.000000</td>\n",
              "      <td>0.149165</td>\n",
              "      <td>0.372177</td>\n",
              "      <td>0.198086</td>\n",
              "      <td>0.270928</td>\n",
              "      <td>-0.393376</td>\n",
              "      <td>0.455274</td>\n",
              "      <td>0.039050</td>\n",
              "      <td>0.374264</td>\n",
              "    </tr>\n",
              "    <tr>\n",
              "      <th>2492</th>\n",
              "      <td>0.360644</td>\n",
              "      <td>0.422236</td>\n",
              "      <td>0.069956</td>\n",
              "      <td>0.238700</td>\n",
              "      <td>0.476683</td>\n",
              "      <td>0.207314</td>\n",
              "      <td>-0.115254</td>\n",
              "      <td>0.203613</td>\n",
              "      <td>0.136343</td>\n",
              "      <td>-0.204164</td>\n",
              "      <td>0.053306</td>\n",
              "      <td>-0.000311</td>\n",
              "      <td>0.150476</td>\n",
              "      <td>0.372676</td>\n",
              "      <td>0.218575</td>\n",
              "      <td>0.158739</td>\n",
              "      <td>0.149165</td>\n",
              "      <td>1.000000</td>\n",
              "      <td>0.276883</td>\n",
              "      <td>0.158002</td>\n",
              "      <td>0.035825</td>\n",
              "      <td>-0.345495</td>\n",
              "      <td>0.449025</td>\n",
              "      <td>0.289410</td>\n",
              "      <td>0.169239</td>\n",
              "    </tr>\n",
              "    <tr>\n",
              "      <th>5062</th>\n",
              "      <td>0.551089</td>\n",
              "      <td>0.226635</td>\n",
              "      <td>-0.054762</td>\n",
              "      <td>0.259660</td>\n",
              "      <td>0.293868</td>\n",
              "      <td>0.311363</td>\n",
              "      <td>0.247693</td>\n",
              "      <td>0.033301</td>\n",
              "      <td>0.301750</td>\n",
              "      <td>0.263654</td>\n",
              "      <td>0.007810</td>\n",
              "      <td>-0.077598</td>\n",
              "      <td>0.024572</td>\n",
              "      <td>0.525990</td>\n",
              "      <td>0.150431</td>\n",
              "      <td>-0.016164</td>\n",
              "      <td>0.372177</td>\n",
              "      <td>0.276883</td>\n",
              "      <td>1.000000</td>\n",
              "      <td>0.403809</td>\n",
              "      <td>0.028521</td>\n",
              "      <td>0.107821</td>\n",
              "      <td>0.428055</td>\n",
              "      <td>0.407044</td>\n",
              "      <td>0.278868</td>\n",
              "    </tr>\n",
              "    <tr>\n",
              "      <th>2486</th>\n",
              "      <td>0.002544</td>\n",
              "      <td>0.305803</td>\n",
              "      <td>0.133812</td>\n",
              "      <td>0.247097</td>\n",
              "      <td>0.438992</td>\n",
              "      <td>0.276306</td>\n",
              "      <td>0.166913</td>\n",
              "      <td>0.137982</td>\n",
              "      <td>0.143414</td>\n",
              "      <td>0.167198</td>\n",
              "      <td>-0.244637</td>\n",
              "      <td>0.039389</td>\n",
              "      <td>-0.031130</td>\n",
              "      <td>0.123380</td>\n",
              "      <td>0.280392</td>\n",
              "      <td>0.256537</td>\n",
              "      <td>0.198086</td>\n",
              "      <td>0.158002</td>\n",
              "      <td>0.403809</td>\n",
              "      <td>1.000000</td>\n",
              "      <td>-0.068421</td>\n",
              "      <td>0.173797</td>\n",
              "      <td>0.105761</td>\n",
              "      <td>0.472361</td>\n",
              "      <td>0.257462</td>\n",
              "    </tr>\n",
              "    <tr>\n",
              "      <th>4942</th>\n",
              "      <td>0.116653</td>\n",
              "      <td>0.037769</td>\n",
              "      <td>0.015169</td>\n",
              "      <td>0.149247</td>\n",
              "      <td>-0.162818</td>\n",
              "      <td>0.079698</td>\n",
              "      <td>0.146011</td>\n",
              "      <td>0.070602</td>\n",
              "      <td>0.056100</td>\n",
              "      <td>-0.084592</td>\n",
              "      <td>-0.030709</td>\n",
              "      <td>-0.156091</td>\n",
              "      <td>-0.133768</td>\n",
              "      <td>0.178088</td>\n",
              "      <td>0.038378</td>\n",
              "      <td>-0.055137</td>\n",
              "      <td>0.270928</td>\n",
              "      <td>0.035825</td>\n",
              "      <td>0.028521</td>\n",
              "      <td>-0.068421</td>\n",
              "      <td>1.000000</td>\n",
              "      <td>-0.346386</td>\n",
              "      <td>-0.004638</td>\n",
              "      <td>0.143672</td>\n",
              "      <td>0.074476</td>\n",
              "    </tr>\n",
              "    <tr>\n",
              "      <th>2267</th>\n",
              "      <td>-0.429183</td>\n",
              "      <td>0.240728</td>\n",
              "      <td>-0.273096</td>\n",
              "      <td>-0.361466</td>\n",
              "      <td>-0.295966</td>\n",
              "      <td>0.212991</td>\n",
              "      <td>0.009685</td>\n",
              "      <td>0.109452</td>\n",
              "      <td>0.179908</td>\n",
              "      <td>0.315712</td>\n",
              "      <td>-0.070660</td>\n",
              "      <td>0.408592</td>\n",
              "      <td>0.142067</td>\n",
              "      <td>0.088600</td>\n",
              "      <td>0.262520</td>\n",
              "      <td>0.503247</td>\n",
              "      <td>-0.393376</td>\n",
              "      <td>-0.345495</td>\n",
              "      <td>0.107821</td>\n",
              "      <td>0.173797</td>\n",
              "      <td>-0.346386</td>\n",
              "      <td>1.000000</td>\n",
              "      <td>-0.339845</td>\n",
              "      <td>0.165960</td>\n",
              "      <td>0.156341</td>\n",
              "    </tr>\n",
              "    <tr>\n",
              "      <th>4809</th>\n",
              "      <td>0.394371</td>\n",
              "      <td>0.411676</td>\n",
              "      <td>0.082528</td>\n",
              "      <td>0.474974</td>\n",
              "      <td>0.054518</td>\n",
              "      <td>0.165608</td>\n",
              "      <td>-0.451625</td>\n",
              "      <td>-0.083562</td>\n",
              "      <td>0.284648</td>\n",
              "      <td>0.085673</td>\n",
              "      <td>0.268595</td>\n",
              "      <td>0.179652</td>\n",
              "      <td>0.015140</td>\n",
              "      <td>0.668516</td>\n",
              "      <td>0.064179</td>\n",
              "      <td>0.100277</td>\n",
              "      <td>0.455274</td>\n",
              "      <td>0.449025</td>\n",
              "      <td>0.428055</td>\n",
              "      <td>0.105761</td>\n",
              "      <td>-0.004638</td>\n",
              "      <td>-0.339845</td>\n",
              "      <td>1.000000</td>\n",
              "      <td>0.542192</td>\n",
              "      <td>0.435520</td>\n",
              "    </tr>\n",
              "    <tr>\n",
              "      <th>3853</th>\n",
              "      <td>-0.304422</td>\n",
              "      <td>0.189234</td>\n",
              "      <td>0.667168</td>\n",
              "      <td>-0.262073</td>\n",
              "      <td>0.464110</td>\n",
              "      <td>0.162314</td>\n",
              "      <td>0.193660</td>\n",
              "      <td>-0.089317</td>\n",
              "      <td>0.170757</td>\n",
              "      <td>-0.109892</td>\n",
              "      <td>-0.143503</td>\n",
              "      <td>0.280402</td>\n",
              "      <td>0.181210</td>\n",
              "      <td>0.179680</td>\n",
              "      <td>-0.023439</td>\n",
              "      <td>0.423225</td>\n",
              "      <td>0.039050</td>\n",
              "      <td>0.289410</td>\n",
              "      <td>0.407044</td>\n",
              "      <td>0.472361</td>\n",
              "      <td>0.143672</td>\n",
              "      <td>0.165960</td>\n",
              "      <td>0.542192</td>\n",
              "      <td>1.000000</td>\n",
              "      <td>0.080403</td>\n",
              "    </tr>\n",
              "    <tr>\n",
              "      <th>2288</th>\n",
              "      <td>0.245048</td>\n",
              "      <td>0.390067</td>\n",
              "      <td>0.119162</td>\n",
              "      <td>0.166999</td>\n",
              "      <td>0.379856</td>\n",
              "      <td>0.279677</td>\n",
              "      <td>0.113266</td>\n",
              "      <td>0.229219</td>\n",
              "      <td>0.193131</td>\n",
              "      <td>-0.279385</td>\n",
              "      <td>0.013284</td>\n",
              "      <td>0.040328</td>\n",
              "      <td>-0.005935</td>\n",
              "      <td>0.155869</td>\n",
              "      <td>0.257864</td>\n",
              "      <td>0.222458</td>\n",
              "      <td>0.374264</td>\n",
              "      <td>0.169239</td>\n",
              "      <td>0.278868</td>\n",
              "      <td>0.257462</td>\n",
              "      <td>0.074476</td>\n",
              "      <td>0.156341</td>\n",
              "      <td>0.435520</td>\n",
              "      <td>0.080403</td>\n",
              "      <td>1.000000</td>\n",
              "    </tr>\n",
              "  </tbody>\n",
              "</table>\n",
              "</div>"
            ],
            "text/plain": [
              "          1648      5136      918   ...      4809      3853      2288\n",
              "1648  1.000000  0.402980 -0.142206  ...  0.394371 -0.304422  0.245048\n",
              "5136  0.402980  1.000000  0.118979  ...  0.411676  0.189234  0.390067\n",
              "918  -0.142206  0.118979  1.000000  ...  0.082528  0.667168  0.119162\n",
              "2824  0.517620  0.057916 -0.317063  ...  0.474974 -0.262073  0.166999\n",
              "3867  0.300200  0.341734  0.294558  ...  0.054518  0.464110  0.379856\n",
              "860   0.480537  0.241377  0.468333  ...  0.165608  0.162314  0.279677\n",
              "3712 -0.312412  0.131398  0.092037  ... -0.451625  0.193660  0.113266\n",
              "2968  0.383348  0.206695 -0.045854  ... -0.083562 -0.089317  0.229219\n",
              "3525  0.092775  0.360056  0.367568  ...  0.284648  0.170757  0.193131\n",
              "4323  0.098191  0.033642 -0.035394  ...  0.085673 -0.109892 -0.279385\n",
              "3617 -0.041734  0.138548  0.011316  ...  0.268595 -0.143503  0.013284\n",
              "4360  0.264425  0.152948 -0.231660  ...  0.179652  0.280402  0.040328\n",
              "2756  0.261268  0.148882  0.148431  ...  0.015140  0.181210 -0.005935\n",
              "89    0.464610  0.562449  0.267029  ...  0.668516  0.179680  0.155869\n",
              "442   0.022308  0.414438  0.304139  ...  0.064179 -0.023439  0.257864\n",
              "3556 -0.191988  0.488607  0.373226  ...  0.100277  0.423225  0.222458\n",
              "5261  0.493008  0.328120  0.470972  ...  0.455274  0.039050  0.374264\n",
              "2492  0.360644  0.422236  0.069956  ...  0.449025  0.289410  0.169239\n",
              "5062  0.551089  0.226635 -0.054762  ...  0.428055  0.407044  0.278868\n",
              "2486  0.002544  0.305803  0.133812  ...  0.105761  0.472361  0.257462\n",
              "4942  0.116653  0.037769  0.015169  ... -0.004638  0.143672  0.074476\n",
              "2267 -0.429183  0.240728 -0.273096  ... -0.339845  0.165960  0.156341\n",
              "4809  0.394371  0.411676  0.082528  ...  1.000000  0.542192  0.435520\n",
              "3853 -0.304422  0.189234  0.667168  ...  0.542192  1.000000  0.080403\n",
              "2288  0.245048  0.390067  0.119162  ...  0.435520  0.080403  1.000000\n",
              "\n",
              "[25 rows x 25 columns]"
            ]
          },
          "metadata": {
            "tags": []
          },
          "execution_count": 9
        }
      ]
    },
    {
      "cell_type": "code",
      "metadata": {
        "id": "GGV_fg9J9y8N",
        "outputId": "090b59f9-4460-4099-fefd-8c2f52618fce",
        "colab": {
          "base_uri": "https://localhost:8080/",
          "height": 302
        }
      },
      "source": [
        "import seaborn as sns\n",
        "sns.heatmap(cor)# plot the heatmap of correlation matrix"
      ],
      "execution_count": 10,
      "outputs": [
        {
          "output_type": "execute_result",
          "data": {
            "text/plain": [
              "<matplotlib.axes._subplots.AxesSubplot at 0x7fbc9244f400>"
            ]
          },
          "metadata": {
            "tags": []
          },
          "execution_count": 10
        },
        {
          "output_type": "display_data",
          "data": {
            "image/png": "[encoded data removed]",
            "text/plain": [
              "<Figure size 432x288 with 2 Axes>"
            ]
          },
          "metadata": {
            "tags": [],
            "needs_background": "light"
          }
        }
      ]
    },
    {
      "cell_type": "code",
      "metadata": {
        "id": "mYYfIKLf_v8V"
      },
      "source": [
        "u3867 = np.round(np.array(cor[3867]),decimals = 6)# convert all element of array a number upto 6 decimal places "
      ],
      "execution_count": 13,
      "outputs": []
    },
    {
      "cell_type": "code",
      "metadata": {
        "id": "axZXzy6gGQuS",
        "outputId": "bec25d3c-eda3-48ae-9947-f12e15a8849f",
        "colab": {
          "base_uri": "https://localhost:8080/"
        }
      },
      "source": [
        "cor.columns"
      ],
      "execution_count": 12,
      "outputs": [
        {
          "output_type": "execute_result",
          "data": {
            "text/plain": [
              "Index([1648, 5136,  918, 2824, 3867,  860, 3712, 2968, 3525, 4323, 3617, 4360,\n",
              "       2756,   89,  442, 3556, 5261, 2492, 5062, 2486, 4942, 2267, 4809, 3853,\n",
              "       2288],\n",
              "      dtype='object')"
            ]
          },
          "metadata": {
            "tags": []
          },
          "execution_count": 12
        }
      ]
    },
    {
      "cell_type": "code",
      "metadata": {
        "id": "BShSYdiLAHqd"
      },
      "source": [
        "p = np.round(sorted(u3867,reverse = True),decimals = 6) # sort the correlation matrix of user 3867 with other user"
      ],
      "execution_count": 14,
      "outputs": []
    },
    {
      "cell_type": "code",
      "metadata": {
        "id": "khL494f7He9R",
        "outputId": "d627eda0-1161-416e-d610-fef2536ca230",
        "colab": {
          "base_uri": "https://localhost:8080/"
        }
      },
      "source": [
        "p"
      ],
      "execution_count": 15,
      "outputs": [
        {
          "output_type": "execute_result",
          "data": {
            "text/plain": [
              "array([ 1.      ,  0.476683,  0.46411 ,  0.438992,  0.400275,  0.379856,\n",
              "        0.341734,  0.310104,  0.3002  ,  0.297977,  0.294558,  0.293868,\n",
              "        0.282497,  0.264249,  0.174085,  0.125193,  0.113581,  0.054518,\n",
              "       -0.003878, -0.060913, -0.066576, -0.093801, -0.162818, -0.295966,\n",
              "       -0.333602])"
            ]
          },
          "metadata": {
            "tags": []
          },
          "execution_count": 15
        }
      ]
    },
    {
      "cell_type": "code",
      "metadata": {
        "id": "mNSxws2nI41t"
      },
      "source": [
        "user=[]\n",
        "for j in range(1,6):\n",
        "  for i in range(len(u3867)):\n",
        "    if (u3867[i] == p[j]):\n",
        "      r = i\n",
        "  c = 0\n",
        "  for k in cor.columns:\n",
        "    if(c == r):\n",
        "      user.append(k)#  top 5 user with highest correlation with 3867 user\n",
        "    c+=1"
      ],
      "execution_count": 16,
      "outputs": []
    },
    {
      "cell_type": "code",
      "metadata": {
        "id": "gfNOLk9zIL8k",
        "outputId": "431ab93c-5357-4fcc-af08-a67ea8634bb4",
        "colab": {
          "base_uri": "https://localhost:8080/"
        }
      },
      "source": [
        "user"
      ],
      "execution_count": 17,
      "outputs": [
        {
          "output_type": "execute_result",
          "data": {
            "text/plain": [
              "[2492, 3853, 2486, 3712, 2288]"
            ]
          },
          "metadata": {
            "tags": []
          },
          "execution_count": 17
        }
      ]
    },
    {
      "cell_type": "code",
      "metadata": {
        "id": "8mrKgm4IQ73W"
      },
      "source": [
        "user_cor =  [p[x] for x in range(1,6)] # correlation of top 5 user with 3867 user"
      ],
      "execution_count": 18,
      "outputs": []
    },
    {
      "cell_type": "code",
      "metadata": {
        "id": "7hE4W8UaIjVL",
        "outputId": "570f866a-c343-4e9d-d1da-2cdf1ec047b0",
        "colab": {
          "base_uri": "https://localhost:8080/"
        }
      },
      "source": [
        "user_cor"
      ],
      "execution_count": 19,
      "outputs": [
        {
          "output_type": "execute_result",
          "data": {
            "text/plain": [
              "[0.476683, 0.46411, 0.438992, 0.400275, 0.379856]"
            ]
          },
          "metadata": {
            "tags": []
          },
          "execution_count": 19
        }
      ]
    },
    {
      "cell_type": "code",
      "metadata": {
        "id": "Dtx3bKM5NeZK"
      },
      "source": [
        "l = []\n",
        "for i in range(len(df_xls)):\n",
        "  l.append(np.matmul(df_xls[[2492, 3853, 2486, 3712, 2288]].fillna(0).values[i],np.array(user_cor))/np.matmul(df_xls[[2492, 3853, 2486, 3712, 2288]].notnull().astype('int').values[i],user_cor))# fill nan value with 0 and compute predicted rating for every movie\n",
        "  # here 'df.notnull' is used to convert every number into 1 and convert nan value into 0\n",
        "  # every prediction for every movie append to l"
      ],
      "execution_count": 25,
      "outputs": []
    },
    {
      "cell_type": "code",
      "metadata": {
        "id": "0YrErXjs6iUA",
        "outputId": "5d116eb6-6435-462c-96ee-5929f7876dd3",
        "colab": {
          "base_uri": "https://localhost:8080/"
        }
      },
      "source": [
        "df_xls[[2492, 3853, 2486, 3712, 2288]].values[0] "
      ],
      "execution_count": 23,
      "outputs": [
        {
          "output_type": "execute_result",
          "data": {
            "text/plain": [
              "array([4.5, nan, 3.5, nan, nan])"
            ]
          },
          "metadata": {
            "tags": []
          },
          "execution_count": 23
        }
      ]
    },
    {
      "cell_type": "code",
      "metadata": {
        "id": "FnenPH8UTqwo",
        "outputId": "63fa7990-997a-4be5-f7b6-41a801991914",
        "colab": {
          "base_uri": "https://localhost:8080/"
        }
      },
      "source": [
        "df_xls[[2492, 3853, 2486, 3712, 2288]].notnull().astype('int').values[0]# use of df.notnull describe here"
      ],
      "execution_count": 24,
      "outputs": [
        {
          "output_type": "execute_result",
          "data": {
            "text/plain": [
              "array([1, 0, 1, 0, 0])"
            ]
          },
          "metadata": {
            "tags": []
          },
          "execution_count": 24
        }
      ]
    },
    {
      "cell_type": "code",
      "metadata": {
        "id": "xKjBpGZJSzBx"
      },
      "source": [
        "l = np.round(l,decimals = 3)"
      ],
      "execution_count": 26,
      "outputs": []
    },
    {
      "cell_type": "code",
      "metadata": {
        "id": "YBcgJFDZdapV",
        "outputId": "deb4c17a-521b-46a0-ee74-bd25e0cd2aac",
        "colab": {
          "base_uri": "https://localhost:8080/"
        }
      },
      "source": [
        "l"
      ],
      "execution_count": 27,
      "outputs": [
        {
          "output_type": "execute_result",
          "data": {
            "text/plain": [
              "array([4.021, 3.348, 3.749, 3.804, 3.345, 4.173, 4.028, 4.091, 4.472,\n",
              "       4.18 , 3.508, 3.399, 3.   , 3.164, 4.29 , 4.4  , 4.508, 2.   ,\n",
              "       3.028, 4.095, 3.668, 4.551, 3.477, 3.619, 3.227, 4.141, 3.641,\n",
              "       4.241, 2.5  , 2.624, 3.892, 3.818, 4.   , 2.541, 3.371, 3.359,\n",
              "       3.902, 2.699, 4.02 , 3.199, 3.   , 3.392, 2.73 , 3.159, 3.365,\n",
              "       3.388, 4.331, 3.471, 2.935, 2.573, 4.394, 2.814, 3.53 , 4.169,\n",
              "       3.   , 2.5  , 3.166, 2.062, 1.801, 3.798, 3.595, 3.999, 3.   ,\n",
              "       2.004, 4.319, 3.872, 3.162, 2.26 , 3.086, 3.6  , 3.529, 3.358,\n",
              "       2.963, 2.   , 4.052, 2.985, 3.399, 4.76 , 3.74 , 2.219, 3.771,\n",
              "       2.566, 3.163, 4.095, 3.949, 1.815, 1.44 , 3.265, 3.148, 3.196,\n",
              "       1.813, 2.322, 1.801, 3.   , 3.471, 4.028, 3.281, 3.555, 3.297,\n",
              "       3.166])"
            ]
          },
          "metadata": {
            "tags": []
          },
          "execution_count": 27
        }
      ]
    },
    {
      "cell_type": "code",
      "metadata": {
        "id": "Jf34EC9oTN3h"
      },
      "source": [
        "p1 = np.round(sorted(l,reverse = True),decimals = 3)"
      ],
      "execution_count": 28,
      "outputs": []
    },
    {
      "cell_type": "code",
      "metadata": {
        "id": "T6TwxytFQnw7",
        "outputId": "fee5f520-1f7e-486b-b8a2-e64209ec6240",
        "colab": {
          "base_uri": "https://localhost:8080/"
        }
      },
      "source": [
        "p1"
      ],
      "execution_count": 29,
      "outputs": [
        {
          "output_type": "execute_result",
          "data": {
            "text/plain": [
              "array([4.76 , 4.551, 4.508, 4.472, 4.4  , 4.394, 4.331, 4.319, 4.29 ,\n",
              "       4.241, 4.18 , 4.173, 4.169, 4.141, 4.095, 4.095, 4.091, 4.052,\n",
              "       4.028, 4.028, 4.021, 4.02 , 4.   , 3.999, 3.949, 3.902, 3.892,\n",
              "       3.872, 3.818, 3.804, 3.798, 3.771, 3.749, 3.74 , 3.668, 3.641,\n",
              "       3.619, 3.6  , 3.595, 3.555, 3.53 , 3.529, 3.508, 3.477, 3.471,\n",
              "       3.471, 3.399, 3.399, 3.392, 3.388, 3.371, 3.365, 3.359, 3.358,\n",
              "       3.348, 3.345, 3.297, 3.281, 3.265, 3.227, 3.199, 3.196, 3.166,\n",
              "       3.166, 3.164, 3.163, 3.162, 3.159, 3.148, 3.086, 3.028, 3.   ,\n",
              "       3.   , 3.   , 3.   , 3.   , 2.985, 2.963, 2.935, 2.814, 2.73 ,\n",
              "       2.699, 2.624, 2.573, 2.566, 2.541, 2.5  , 2.5  , 2.322, 2.26 ,\n",
              "       2.219, 2.062, 2.004, 2.   , 2.   , 1.815, 1.813, 1.801, 1.801,\n",
              "       1.44 ])"
            ]
          },
          "metadata": {
            "tags": []
          },
          "execution_count": 29
        }
      ]
    },
    {
      "cell_type": "code",
      "metadata": {
        "id": "-i4AAXLMTj7r",
        "outputId": "c591ae90-ecaf-404c-efde-83b7b8b278ad",
        "colab": {
          "base_uri": "https://localhost:8080/"
        }
      },
      "source": [
        "for g in range(len(l)):\n",
        "  if(l[g] == 4.76):\n",
        "    print(g)"
      ],
      "execution_count": 30,
      "outputs": [
        {
          "output_type": "stream",
          "text": [
            "77\n"
          ],
          "name": "stdout"
        }
      ]
    },
    {
      "cell_type": "code",
      "metadata": {
        "id": "TnoKTwaVT1hr",
        "outputId": "b493bbd6-b35f-40b0-e983-50560a068c18",
        "colab": {
          "base_uri": "https://localhost:8080/"
        }
      },
      "source": [
        "c = 0\n",
        "for j in df_xls['Unnamed: 0']:\n",
        "  if(c==77):\n",
        "    print(j)\n",
        "  c+=1#the top rated movie ID for 3867"
      ],
      "execution_count": 32,
      "outputs": [
        {
          "output_type": "stream",
          "text": [
            "1891: Star Wars: Episode V - The Empire Strikes Back (1980)\n"
          ],
          "name": "stdout"
        }
      ]
    },
    {
      "cell_type": "markdown",
      "metadata": {
        "id": "PFreL9igH4Vw"
      },
      "source": [
        "####Part 2 - With Normalization"
      ]
    },
    {
      "cell_type": "code",
      "metadata": {
        "id": "Z_3qhMhoi7Jg"
      },
      "source": [
        "l1 = []\n",
        "for i in range(len(df_xls)):\n",
        "  k = (df_xls[[2492, 3853, 2486, 3712, 2288]].fillna(0).values[i]-(df_xls[[2492, 3853, 2486, 3712, 2288]].mean(axis = 0).values))\n",
        "  filter_array = np.where(k<0,0,k)\n",
        "  multiply_array = np.matmul(filter_array,user_cor)\n",
        "  l1.append((df_xls[3867].mean(axis = 0))+(multiply_array/np.matmul(df_xls[[2492, 3853, 2486, 3712, 2288]].notnull().astype('int').values[i],user_cor)))"
      ],
      "execution_count": 109,
      "outputs": []
    },
    {
      "cell_type": "code",
      "metadata": {
        "id": "rsyqsvjiDcsO",
        "outputId": "8dc97d88-16c6-4049-e0d7-87e5e4c42e70",
        "colab": {
          "base_uri": "https://localhost:8080/"
        }
      },
      "source": [
        "df_xls[[2492, 3853, 2486, 3712, 2288]].fillna(0).values.mean(axis = 0)"
      ],
      "execution_count": 106,
      "outputs": [
        {
          "output_type": "execute_result",
          "data": {
            "text/plain": [
              "array([2.58 , 1.665, 2.89 , 2.295, 2.46 ])"
            ]
          },
          "metadata": {
            "tags": []
          },
          "execution_count": 106
        }
      ]
    },
    {
      "cell_type": "code",
      "metadata": {
        "id": "uhrhhgX7F2YP",
        "outputId": "4c80e2de-9ad9-463f-e595-7af40774a9f2",
        "colab": {
          "base_uri": "https://localhost:8080/"
        }
      },
      "source": [
        "df_xls[[2492, 3853, 2486, 3712, 2288]].mean(axis = 0).values"
      ],
      "execution_count": 108,
      "outputs": [
        {
          "output_type": "execute_result",
          "data": {
            "text/plain": [
              "array([3.44      , 3.7       , 2.89      , 4.5       , 3.36986301])"
            ]
          },
          "metadata": {
            "tags": []
          },
          "execution_count": 108
        }
      ]
    },
    {
      "cell_type": "code",
      "metadata": {
        "id": "Hm-q3mYfG6l5"
      },
      "source": [
        "l1 = np.round(l1,decimals = 3)"
      ],
      "execution_count": 120,
      "outputs": []
    },
    {
      "cell_type": "code",
      "metadata": {
        "id": "UgxLQYiIXbmT"
      },
      "source": [
        "p2 = np.round(sorted(l1,reverse = True),decimals = 3)"
      ],
      "execution_count": 112,
      "outputs": []
    },
    {
      "cell_type": "code",
      "metadata": {
        "id": "ATLfG2fGGv4N",
        "outputId": "6b7c62bc-6308-4064-b969-53ebedbdfea4",
        "colab": {
          "base_uri": "https://localhost:8080/"
        }
      },
      "source": [
        "l1 # predicted rate of every movie sequence-wise"
      ],
      "execution_count": 124,
      "outputs": [
        {
          "output_type": "execute_result",
          "data": {
            "text/plain": [
              "array([4.506, 3.708, 4.108, 3.887, 3.906, 4.558, 4.383, 4.396, 4.778,\n",
              "       4.565, 4.22 , 4.229, 3.721, 3.819, 4.383, 4.494, 4.601, 3.662,\n",
              "       3.816, 4.225, 4.183, 4.857, 3.786, 3.977, 4.369, 4.602, 4.275,\n",
              "       4.417, 3.662, 3.7  , 4.197, 4.34 , 4.772, 3.762, 3.887, 3.98 ,\n",
              "       4.406, 4.194, 4.16 , 3.804, 3.721, 4.418, 3.868, 3.707, 3.937,\n",
              "       3.819, 4.46 , 3.961, 3.707, 3.662, 4.488, 3.777, 3.957, 4.309,\n",
              "       3.772, 3.662, 4.046, 3.693, 3.662, 4.053, 4.085, 4.111, 3.772,\n",
              "       3.662, 4.656, 3.965, 3.837, 3.662, 3.662, 3.85 , 3.977, 3.896,\n",
              "       3.684, 3.662, 4.48 , 3.826, 3.959, 5.246, 4.225, 3.714, 4.126,\n",
              "       3.662, 3.841, 4.225, 4.078, 3.78 , 3.662, 3.896, 3.662, 3.954,\n",
              "       3.662, 3.953, 3.662, 3.772, 3.82 , 4.158, 3.953, 3.896, 3.831,\n",
              "       3.864])"
            ]
          },
          "metadata": {
            "tags": []
          },
          "execution_count": 124
        }
      ]
    },
    {
      "cell_type": "code",
      "metadata": {
        "id": "iqJee5HnGSP_",
        "outputId": "ad8ea534-35be-4ee8-fdcc-6d4a58b4501a",
        "colab": {
          "base_uri": "https://localhost:8080/"
        }
      },
      "source": [
        "p2 # p2 is sorted order predicted rate of every movie"
      ],
      "execution_count": 123,
      "outputs": [
        {
          "output_type": "execute_result",
          "data": {
            "text/plain": [
              "array([5.246, 4.857, 4.778, 4.772, 4.656, 4.602, 4.601, 4.565, 4.558,\n",
              "       4.506, 4.494, 4.488, 4.48 , 4.46 , 4.418, 4.417, 4.406, 4.396,\n",
              "       4.383, 4.383, 4.369, 4.34 , 4.309, 4.275, 4.229, 4.225, 4.225,\n",
              "       4.225, 4.22 , 4.197, 4.194, 4.183, 4.16 , 4.158, 4.126, 4.111,\n",
              "       4.108, 4.085, 4.078, 4.053, 4.046, 3.98 , 3.977, 3.977, 3.965,\n",
              "       3.961, 3.959, 3.957, 3.954, 3.953, 3.953, 3.937, 3.906, 3.896,\n",
              "       3.896, 3.896, 3.887, 3.887, 3.868, 3.864, 3.85 , 3.841, 3.837,\n",
              "       3.831, 3.826, 3.82 , 3.819, 3.819, 3.816, 3.804, 3.786, 3.78 ,\n",
              "       3.777, 3.772, 3.772, 3.772, 3.762, 3.721, 3.721, 3.714, 3.708,\n",
              "       3.707, 3.707, 3.7  , 3.693, 3.684, 3.662, 3.662, 3.662, 3.662,\n",
              "       3.662, 3.662, 3.662, 3.662, 3.662, 3.662, 3.662, 3.662, 3.662,\n",
              "       3.662])"
            ]
          },
          "metadata": {
            "tags": []
          },
          "execution_count": 123
        }
      ]
    },
    {
      "cell_type": "code",
      "metadata": {
        "id": "OPz2nGc4nfYh",
        "outputId": "9f86b444-3df9-4892-b59e-56881e5bdf5c",
        "colab": {
          "base_uri": "https://localhost:8080/"
        }
      },
      "source": [
        "for i in range(len(l1)):\n",
        "  if(l1[i] == 5.246):\n",
        "    print(i)"
      ],
      "execution_count": 121,
      "outputs": [
        {
          "output_type": "stream",
          "text": [
            "77\n"
          ],
          "name": "stdout"
        }
      ]
    },
    {
      "cell_type": "code",
      "metadata": {
        "id": "VESFMc8Inox_",
        "outputId": "deea3691-f518-4ffc-a798-5d7fe5262035",
        "colab": {
          "base_uri": "https://localhost:8080/"
        }
      },
      "source": [
        "c = 0\n",
        "for j in df_xls['Unnamed: 0']:\n",
        "  if(c==77):\n",
        "    print(j)#the top rated movie ID for 3867\n",
        "  c+=1"
      ],
      "execution_count": 122,
      "outputs": [
        {
          "output_type": "stream",
          "text": [
            "1891: Star Wars: Episode V - The Empire Strikes Back (1980)\n"
          ],
          "name": "stdout"
        }
      ]
    }
  ]
}